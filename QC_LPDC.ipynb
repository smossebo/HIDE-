{
 "cells": [
  {
   "cell_type": "code",
   "execution_count": null,
   "metadata": {},
   "outputs": [],
   "source": [
    "import numpy as np\n",
    "\n",
    "from utils import gaussjordan\n",
    "\n",
    "from LinearCode import LinearCode\n",
    "\n",
    "\n",
    "class QC_LDPC(LinearCode):\n",
    "    \"\"\"\n",
    "    Quasi-Cyclic LDPC code representation (extends LinearCode)\n",
    "\n",
    "    ...\n",
    "\n",
    "    Methods\n",
    "    -------\n",
    "    from_params(n, p, w)\n",
    "        Init QC-LDPC by length, circulant size and code weight\n",
    "\n",
    "    _get_circulant_block(polynom)\n",
    "        Get circulant (p, p) for given vector of size p\n",
    "        \n",
    "    \"\"\"\n",
    "\n",
    "    def __init__(self, G, H):\n",
    "        super().__init__(G, H)\n",
    "        \n",
    "    @classmethod\n",
    "    def from_params(cls, n, p, w):\n",
    "        assert n % p == 0, \"p must be delimeter of n\"\n",
    "        \n",
    "        n0 = n // p\n",
    "        assert w > 2*n0, \"not enough code weight\"\n",
    "        \n",
    "        fine = False\n",
    "        \n",
    "        while not fine:\n",
    "            blocks = []\n",
    "            inverse_block = None\n",
    "            inverse_block_position = None\n",
    "            \n",
    "            vector = [1 for _ in range(w)] + [0 for _  in range(n - w)]\n",
    "            vector = np.array(vector, dtype=int)\n",
    "            np.random.shuffle(vector)\n",
    "            \n",
    "            for i in range(n0):\n",
    "                circ = vector[i*p:(i+1)*p]\n",
    "                \n",
    "                if sum(circ) < 2:\n",
    "                    inverse_block = None\n",
    "                    break\n",
    "        \n",
    "                block = QC_LDPC._get_circulant_block(circ)\n",
    "                blocks.append(block)\n",
    "                    \n",
    "                A, P = gaussjordan(block, True)\n",
    "                A = np.array(A, dtype=int)\n",
    "                P = np.array(P, dtype=int)\n",
    "                \n",
    "                if (A == np.eye(p, dtype=int)).all():\n",
    "                    inverse_block_position = i\n",
    "                    inverse_block = P\n",
    "                \n",
    "            # continue only if inverse circulant found\n",
    "            fine = True if inverse_block is not None else False\n",
    "        \n",
    "        # put inverse block on last position\n",
    "        blocks[inverse_block_position], blocks[n0-1] = blocks[n0-1], blocks[inverse_block_position]\n",
    "        H = np.concatenate(blocks, axis=1)\n",
    "\n",
    "        for i in range(n0):\n",
    "            blocks[i] = blocks[i] @ inverse_block % 2\n",
    "            blocks[i] = blocks[i].T            \n",
    "\n",
    "        Ht = np.concatenate(blocks[:n0-1], axis=0)\n",
    "        G = np.concatenate((np.eye(Ht.shape[0], dtype=int), Ht), axis=1)\n",
    "        \n",
    "        assert (G @ H.T % 2 == 0).all(), \"G is not correspond to H\"\n",
    "        \n",
    "        return cls(G, H)\n",
    "    \n",
    "    @staticmethod\n",
    "    def _get_circulant_block(polynom):\n",
    "        N = len(polynom)\n",
    "        block = np.empty((N, N), dtype=int)\n",
    "        \n",
    "        for i in range(N):\n",
    "            block[i] = np.roll(polynom, i)\n",
    "            \n",
    "        return block\n",
    "\n",
    "\n",
    "\n",
    "# EXAMPLE USAGE:\n",
    "\n",
    "n = 16\n",
    "p = 8\n",
    "w = 7\n",
    "\n",
    "qc_ldpc = QC_LDPC.from_params(n, p, w)\n",
    "print(qc_ldpc.getG())\n",
    "print(qc_ldpc.getG().shape)"
   ]
  },
  {
   "cell_type": "code",
   "execution_count": null,
   "metadata": {},
   "outputs": [],
   "source": [
    "print(qc_ldpc.getH())\n",
    "print(qc_ldpc.getH().shape)"
   ]
  },
  {
   "cell_type": "code",
   "execution_count": 208,
   "metadata": {},
   "outputs": [],
   "source": [
    "word = np.random.randint(2, size=qc_ldpc.getG().shape[0])"
   ]
  },
  {
   "cell_type": "code",
   "execution_count": null,
   "metadata": {},
   "outputs": [],
   "source": []
  },
  {
   "cell_type": "code",
   "execution_count": null,
   "metadata": {},
   "outputs": [],
   "source": [
    "word"
   ]
  },
  {
   "cell_type": "code",
   "execution_count": null,
   "metadata": {},
   "outputs": [],
   "source": [
    "print(len(word))"
   ]
  },
  {
   "cell_type": "code",
   "execution_count": null,
   "metadata": {},
   "outputs": [],
   "source": [
    "encoded = qc_ldpc.encode(word)\n",
    "print(encoded)\n",
    "print(len(encoded))"
   ]
  },
  {
   "cell_type": "code",
   "execution_count": null,
   "metadata": {},
   "outputs": [],
   "source": [
    "# error vector size n with t or less errors\n",
    "errors_num = 2\n",
    "e = [1 for _ in range(errors_num)] + [0 for _  in range(n - errors_num)]\n",
    "e = np.array(e)\n",
    "np.random.shuffle(e)\n",
    "print(e)\n",
    "print(len(e))"
   ]
  },
  {
   "cell_type": "code",
   "execution_count": null,
   "metadata": {},
   "outputs": [],
   "source": [
    "corrupted = (encoded + e) % 2\n",
    "print(corrupted)\n",
    "print(len(corrupted))"
   ]
  },
  {
   "cell_type": "code",
   "execution_count": null,
   "metadata": {},
   "outputs": [],
   "source": [
    "decoded = qc_ldpc.decode(np.copy(corrupted))\n",
    "decoded = qc_ldpc.get_message(decoded)\n",
    "print(decoded)\n",
    "print(len(decoded))"
   ]
  },
  {
   "cell_type": "code",
   "execution_count": null,
   "metadata": {},
   "outputs": [],
   "source": [
    "word"
   ]
  },
  {
   "cell_type": "code",
   "execution_count": null,
   "metadata": {},
   "outputs": [],
   "source": [
    "try:\n",
    "    assert (decoded == word).all()\n",
    "except AssertionError:\n",
    "    print(\"The secret message must be forwarded\")"
   ]
  },
  {
   "cell_type": "code",
   "execution_count": null,
   "metadata": {},
   "outputs": [],
   "source": []
  },
  {
   "cell_type": "code",
   "execution_count": null,
   "metadata": {},
   "outputs": [],
   "source": []
  },
  {
   "cell_type": "code",
   "execution_count": null,
   "metadata": {},
   "outputs": [],
   "source": []
  },
  {
   "cell_type": "code",
   "execution_count": null,
   "metadata": {},
   "outputs": [],
   "source": [
    "from google.colab import drive\n",
    "import os\n",
    "import shutil\n",
    "drive.mount('/content/gdrive')"
   ]
  },
  {
   "cell_type": "code",
   "execution_count": null,
   "metadata": {},
   "outputs": [],
   "source": [
    "os.chdir('/content/gdrive/My Drive/Animal Species')"
   ]
  },
  {
   "cell_type": "code",
   "execution_count": null,
   "metadata": {},
   "outputs": [],
   "source": []
  },
  {
   "cell_type": "code",
   "execution_count": null,
   "metadata": {},
   "outputs": [],
   "source": [
    "ls"
   ]
  },
  {
   "cell_type": "code",
   "execution_count": 144,
   "metadata": {},
   "outputs": [],
   "source": [
    "value = 0 \n",
    "dico = {}\n",
    "for filename in os.listdir('/content/gdrive/My Drive/Animal Species'):\n",
    "        if(os.path.isdir(filename)):\n",
    "        dico[value]  = filename\n",
    "        value = value + 1"
   ]
  },
  {
   "cell_type": "code",
   "execution_count": null,
   "metadata": {},
   "outputs": [],
   "source": [
    " for i in dico.items():\n",
    "    print(i)    "
   ]
  },
  {
   "cell_type": "code",
   "execution_count": null,
   "metadata": {},
   "outputs": [],
   "source": [
    "y = corrupted\n",
    "print(y)\n",
    "len(y)"
   ]
  },
  {
   "cell_type": "code",
   "execution_count": null,
   "metadata": {},
   "outputs": [],
   "source": [
    "lis = []\n",
    "i = 0\n",
    "\n",
    "while i < len(y):\n",
    "    print(dico[i])\n",
    "    count = 0\n",
    "    for filename in os.listdir('/content/gdrive/My Drive/Animal Species/' + dico[i]):\n",
    "        print(filename)\n",
    "        count  = count + 1\n",
    "    lis.append(count)\n",
    "    print(\"-- nombre de fichiers  = \", lis[i],\"--\")\n",
    "    print(\"\\n\")\n",
    "    i = i + 1"
   ]
  },
  {
   "cell_type": "code",
   "execution_count": null,
   "metadata": {},
   "outputs": [],
   "source": [
    "lis"
   ]
  },
  {
   "cell_type": "code",
   "execution_count": 150,
   "metadata": {},
   "outputs": [],
   "source": [
    "import hashlib\n",
    "import os\n",
    "\n",
    "\n",
    "def hash_directory(path):\n",
    "    digest = hashlib.sha256()\n",
    "\n",
    "    for root, dirs, files in os.walk(path):\n",
    "        for names in files:\n",
    "            file_path = os.path.join(root, names)\n",
    "\n",
    "            # Hash the path and add to the digest to account for empty files/directories\n",
    "            digest.update(hashlib.sha1(file_path[len(path):].encode()).digest())\n",
    "\n",
    "            # Per @pt12lol - if the goal is uniqueness over repeatability, this is an alternative method using 'hash'\n",
    "            # digest.update(str(hash(file_path[len(path):])).encode())\n",
    "\n",
    "            if os.path.isfile(file_path):\n",
    "                with open(file_path, 'rb') as f_obj:\n",
    "                    while True:\n",
    "                        buf = f_obj.read(1024 * 1024)\n",
    "                        if not buf:\n",
    "                            break\n",
    "                        digest.update(buf)\n",
    "\n",
    "    return digest.hexdigest()"
   ]
  },
  {
   "cell_type": "code",
   "execution_count": null,
   "metadata": {},
   "outputs": [],
   "source": [
    "list_Hash1 = []\n",
    "for i in range(len(y)):\n",
    "    list_Hash1.append('')\n",
    "list_Hash1"
   ]
  },
  {
   "cell_type": "code",
   "execution_count": null,
   "metadata": {},
   "outputs": [],
   "source": [
    "for i in range(len(y)):\n",
    "    path = '/content/gdrive/My Drive/Animal Species/' + dico[i]\n",
    "    #print(path)\n",
    "    list_Hash1[i] = hash_directory(path)\n",
    "    print('--hash '+dico[i],'--',list_Hash1[i])"
   ]
  },
  {
   "cell_type": "code",
   "execution_count": null,
   "metadata": {},
   "outputs": [],
   "source": [
    "y"
   ]
  },
  {
   "cell_type": "code",
   "execution_count": null,
   "metadata": {},
   "outputs": [],
   "source": []
  },
  {
   "cell_type": "code",
   "execution_count": null,
   "metadata": {},
   "outputs": [],
   "source": []
  },
  {
   "cell_type": "code",
   "execution_count": null,
   "metadata": {},
   "outputs": [],
   "source": []
  },
  {
   "cell_type": "code",
   "execution_count": null,
   "metadata": {},
   "outputs": [],
   "source": []
  },
  {
   "cell_type": "code",
   "execution_count": null,
   "metadata": {},
   "outputs": [],
   "source": [
    "liste = ['Balistidae', 'Belonidae', 'Enoploteuthidae', 'Cyprinidae', 'Nephropidae', 'Axiidae', 'Serranidae', 'Cardiidae', 'Scombridae', 'Sparidae', 'Acanthuridae', 'Limidae', 'Sergestidae', 'Acipenseridae', 'Acropomatidae', 'Holothuriidae', 'Squalidae', 'Octopodidae', 'Pectinidae', 'Serranidae']"
   ]
  },
  {
   "cell_type": "code",
   "execution_count": null,
   "metadata": {},
   "outputs": [],
   "source": [
    "len(liste)"
   ]
  },
  {
   "cell_type": "code",
   "execution_count": null,
   "metadata": {},
   "outputs": [],
   "source": []
  },
  {
   "cell_type": "code",
   "execution_count": null,
   "metadata": {},
   "outputs": [],
   "source": []
  },
  {
   "cell_type": "code",
   "execution_count": null,
   "metadata": {},
   "outputs": [],
   "source": []
  },
  {
   "cell_type": "code",
   "execution_count": 154,
   "metadata": {},
   "outputs": [],
   "source": [
    "i = 0\n",
    "while i < len(y):\n",
    "    number = np.random.randint(0,20)\n",
    "    file = '/'+liste[number]+'.txt'\n",
    "    if(y[i] == 1):\n",
    "        my_path = 'C:/Users/Willy/Desktop/github/Animal Species/' + dico[i]\n",
    "        os.chdir(my_path)\n",
    "        #print(my_path + file)\n",
    "        if not os.path.exists(my_path + file):\n",
    "            with open(my_path + file,'w') as fp:\n",
    "                pass\n",
    "        else:\n",
    "            descriptor = open(my_path + file,'a')\n",
    "            descriptor.write(\"Species\")\n",
    "            descriptor.close()\n",
    "        #print('-- folder f'+str(j),' -- file0 -- ',filename)\n",
    "    i = i + 1"
   ]
  },
  {
   "cell_type": "code",
   "execution_count": null,
   "metadata": {},
   "outputs": [],
   "source": []
  },
  {
   "cell_type": "code",
   "execution_count": null,
   "metadata": {},
   "outputs": [],
   "source": [
    "lis = []\n",
    "i = 0\n",
    "\n",
    "while i < len(y):\n",
    "    print(dico[i])\n",
    "    count = 0\n",
    "    for filename in os.listdir('/content/gdrive/My Drive/Animal Species/' + dico[i]):\n",
    "        print(filename)\n",
    "        count  = count + 1\n",
    "    lis.append(count)\n",
    "    print(\"-- nombre de fichiers  = \", lis[i],\"--\")\n",
    "    print(\"\\n\")\n",
    "    i = i + 1"
   ]
  },
  {
   "cell_type": "code",
   "execution_count": null,
   "metadata": {},
   "outputs": [],
   "source": [
    "list_Hash2 = []\n",
    "for i in range(len(y)):\n",
    "    list_Hash2.append('')\n",
    "list_Hash2"
   ]
  },
  {
   "cell_type": "code",
   "execution_count": null,
   "metadata": {},
   "outputs": [],
   "source": [
    "for i in range(len(y)):\n",
    "    path = '/content/gdrive/My Drive/Animal Species/' + dico[i]\n",
    "    #print(path)\n",
    "    list_Hash2[i] = hash_directory(path)\n",
    "    print('--hash '+dico[i],'--',list_Hash2[i])"
   ]
  },
  {
   "cell_type": "code",
   "execution_count": 158,
   "metadata": {},
   "outputs": [],
   "source": [
    "msg_secret = []\n",
    "for i in range(len(y)):\n",
    "    if(list_Hash1[i] != list_Hash2[i]):\n",
    "        msg_secret.append(1)\n",
    "    else:\n",
    "        msg_secret.append(0)"
   ]
  },
  {
   "cell_type": "code",
   "execution_count": null,
   "metadata": {},
   "outputs": [],
   "source": [
    "msg_secret"
   ]
  },
  {
   "cell_type": "code",
   "execution_count": 160,
   "metadata": {},
   "outputs": [
    {
     "data": {
      "text/plain": [
       "226"
      ]
     },
     "execution_count": 160,
     "metadata": {},
     "output_type": "execute_result"
    }
   ],
   "source": [
    "len(msg_secret)"
   ]
  },
  {
   "cell_type": "code",
   "execution_count": null,
   "metadata": {},
   "outputs": [],
   "source": [
    "np.array(msg_secret, dtype = 'i')"
   ]
  },
  {
   "cell_type": "code",
   "execution_count": null,
   "metadata": {},
   "outputs": [],
   "source": [
    "decoded = qc_ldpc.decode(np.copy(np.array(msg_secret, dtype = 'i')))\n",
    "decoded = qc_ldpc.get_message(decoded)\n",
    "print(decoded)\n",
    "print(len(decoded))"
   ]
  },
  {
   "cell_type": "code",
   "execution_count": null,
   "metadata": {},
   "outputs": [],
   "source": [
    "word"
   ]
  },
  {
   "cell_type": "code",
   "execution_count": 164,
   "metadata": {},
   "outputs": [],
   "source": [
    "try:\n",
    "    assert (msg_secret == y).all()\n",
    "    assert (decoded == word).all()\n",
    "except AssertionError:\n",
    "    print(\"The secret message must be forwarded\")"
   ]
  },
  {
   "cell_type": "code",
   "execution_count": null,
   "metadata": {},
   "outputs": [],
   "source": []
  },
  {
   "cell_type": "code",
   "execution_count": null,
   "metadata": {},
   "outputs": [],
   "source": []
  },
  {
   "cell_type": "code",
   "execution_count": null,
   "metadata": {},
   "outputs": [],
   "source": []
  },
  {
   "cell_type": "markdown",
   "metadata": {},
   "source": [
    "# #Code script for time evaluation"
   ]
  },
  {
   "cell_type": "code",
   "execution_count": null,
   "metadata": {},
   "outputs": [],
   "source": [
    "import time\n",
    "\n",
    "start = time.time()\n",
    "\n",
    "import numpy as np\n",
    "\n",
    "from utils import gaussjordan\n",
    "\n",
    "from LinearCode import LinearCode\n",
    "\n",
    "\n",
    "class QC_LDPC(LinearCode):\n",
    "    \"\"\"\n",
    "    Quasi-Cyclic LDPC code representation (extends LinearCode)\n",
    "\n",
    "    ...\n",
    "\n",
    "    Methods\n",
    "    -------\n",
    "    from_params(n, p, w)\n",
    "        Init QC-LDPC by length, circulant size and code weight\n",
    "\n",
    "    _get_circulant_block(polynom)\n",
    "        Get circulant (p, p) for given vector of size p\n",
    "        \n",
    "    \"\"\"\n",
    "\n",
    "    def __init__(self, G, H):\n",
    "        super().__init__(G, H)\n",
    "        \n",
    "    @classmethod\n",
    "    def from_params(cls, n, p, w):\n",
    "        assert n % p == 0, \"p must be delimeter of n\"\n",
    "        \n",
    "        n0 = n // p\n",
    "        assert w > 2*n0, \"not enough code weight\"\n",
    "        \n",
    "        fine = False\n",
    "        \n",
    "        while not fine:\n",
    "            blocks = []\n",
    "            inverse_block = None\n",
    "            inverse_block_position = None\n",
    "            \n",
    "            vector = [1 for _ in range(w)] + [0 for _  in range(n - w)]\n",
    "            vector = np.array(vector, dtype=int)\n",
    "            np.random.shuffle(vector)\n",
    "            \n",
    "            for i in range(n0):\n",
    "                circ = vector[i*p:(i+1)*p]\n",
    "                \n",
    "                if sum(circ) < 2:\n",
    "                    inverse_block = None\n",
    "                    break\n",
    "        \n",
    "                block = QC_LDPC._get_circulant_block(circ)\n",
    "                blocks.append(block)\n",
    "                    \n",
    "                A, P = gaussjordan(block, True)\n",
    "                A = np.array(A, dtype=int)\n",
    "                P = np.array(P, dtype=int)\n",
    "                \n",
    "                if (A == np.eye(p, dtype=int)).all():\n",
    "                    inverse_block_position = i\n",
    "                    inverse_block = P\n",
    "                \n",
    "            # continue only if inverse circulant found\n",
    "            fine = True if inverse_block is not None else False\n",
    "        \n",
    "        # put inverse block on last position\n",
    "        blocks[inverse_block_position], blocks[n0-1] = blocks[n0-1], blocks[inverse_block_position]\n",
    "        H = np.concatenate(blocks, axis=1)\n",
    "\n",
    "        for i in range(n0):\n",
    "            blocks[i] = blocks[i] @ inverse_block % 2\n",
    "            blocks[i] = blocks[i].T            \n",
    "\n",
    "        Ht = np.concatenate(blocks[:n0-1], axis=0)\n",
    "        G = np.concatenate((np.eye(Ht.shape[0], dtype=int), Ht), axis=1)\n",
    "        \n",
    "        assert (G @ H.T % 2 == 0).all(), \"G is not correspond to H\"\n",
    "        \n",
    "        return cls(G, H)\n",
    "    \n",
    "    @staticmethod\n",
    "    def _get_circulant_block(polynom):\n",
    "        N = len(polynom)\n",
    "        block = np.empty((N, N), dtype=int)\n",
    "        \n",
    "        for i in range(N):\n",
    "            block[i] = np.roll(polynom, i)\n",
    "            \n",
    "        return block\n",
    "\n",
    "\n",
    "\n",
    "# EXAMPLE USAGE:\n",
    "\n",
    "n = 16\n",
    "p = 8\n",
    "w = 7\n",
    "\n",
    "qc_ldpc = QC_LDPC.from_params(n, p, w)\n",
    "print(qc_ldpc.getG())\n",
    "print(qc_ldpc.getG().shape)\n",
    "\n",
    "print(qc_ldpc.getH())\n",
    "print(qc_ldpc.getH().shape)\n",
    "\n",
    "word = np.random.randint(2, size=qc_ldpc.getG().shape[0])\n",
    "\n",
    "\n",
    "\n",
    "word\n",
    "\n",
    "print(len(word))\n",
    "\n",
    "encoded = qc_ldpc.encode(word)\n",
    "print(encoded)\n",
    "print(len(encoded))\n",
    "\n",
    "# error vector size n with t or less errors\n",
    "errors_num = 2\n",
    "e = [1 for _ in range(errors_num)] + [0 for _  in range(n - errors_num)]\n",
    "e = np.array(e)\n",
    "np.random.shuffle(e)\n",
    "print(e)\n",
    "print(len(e))\n",
    "\n",
    "corrupted = (encoded + e) % 2\n",
    "print(corrupted)\n",
    "print(len(corrupted))\n",
    "\n",
    "import os\n",
    "import shutil\n",
    "\n",
    "os.chdir('/content/gdrive/My Drive/Animal Species')\n",
    "\n",
    "#print(ls)\n",
    "\n",
    "value = 0 \n",
    "dico = {}\n",
    "for filename in os.listdir('/content/gdrive/My Drive/Animal Species'):\n",
    "        if(os.path.isdir(filename)):\n",
    "            dico[value]  = filename\n",
    "            value = value + 1\n",
    "        \n",
    "        \n",
    "for i in dico.items():\n",
    "    print(i)\n",
    "\n",
    "y = corrupted\n",
    "print(y)\n",
    "len(y)\n",
    "\n",
    "i = 0\n",
    "while i < len(y):\n",
    "    my_path = '/content/gdrive/My Drive/Animal Species/' + dico[i]\n",
    "    os.chdir(my_path)\n",
    "    if os.path.isfile(my_path + '/file.txt'):\n",
    "        os.remove(my_path + '/file.txt')\n",
    "        #print('-- folder f'+str(j),' -- file0 -- ',filename)\n",
    "    i = i + 1\n",
    "\n",
    "lis = []\n",
    "i = 0\n",
    "\n",
    "while i < len(y):\n",
    "    print(dico[i])\n",
    "    count = 0\n",
    "    for filename in os.listdir('/content/gdrive/My Drive/Animal Species/' + dico[i]):\n",
    "        print(filename)\n",
    "        count  = count + 1\n",
    "    lis.append(count)\n",
    "    print(\"-- nombre de fichiers  = \", lis[i],\"--\")\n",
    "    print(\"\\n\")\n",
    "    i = i + 1\n",
    "\n",
    "print(lis)\n",
    "\n",
    "import hashlib\n",
    "import os\n",
    "\n",
    "\n",
    "def hash_directory(path):\n",
    "    digest = hashlib.sha256()\n",
    "\n",
    "    for root, dirs, files in os.walk(path):\n",
    "        for names in files:\n",
    "            file_path = os.path.join(root, names)\n",
    "\n",
    "            # Hash the path and add to the digest to account for empty files/directories\n",
    "            digest.update(hashlib.sha1(file_path[len(path):].encode()).digest())\n",
    "\n",
    "            # Per @pt12lol - if the goal is uniqueness over repeatability, this is an alternative method using 'hash'\n",
    "            # digest.update(str(hash(file_path[len(path):])).encode())\n",
    "\n",
    "            if os.path.isfile(file_path):\n",
    "                with open(file_path, 'rb') as f_obj:\n",
    "                    while True:\n",
    "                        buf = f_obj.read(1024 * 1024)\n",
    "                        if not buf:\n",
    "                            break\n",
    "                        digest.update(buf)\n",
    "\n",
    "    return digest.hexdigest()\n",
    "\n",
    "list_Hash1 = []\n",
    "for i in range(len(y)):\n",
    "    list_Hash1.append('')\n",
    "list_Hash1\n",
    "\n",
    "for i in range(len(y)):\n",
    "    path = '/content/gdrive/My Drive/Animal Species/' + dico[i]\n",
    "    #print(path)\n",
    "    list_Hash1[i] = hash_directory(path)\n",
    "    print('--hash '+dico[i],'--',list_Hash1[i])\n",
    "\n",
    "print(y)\n",
    "\n",
    "liste = ['Balistidae', 'Belonidae', 'Enoploteuthidae', 'Cyprinidae', 'Nephropidae', 'Axiidae', 'Serranidae', 'Cardiidae', 'Scombridae', 'Sparidae', 'Acanthuridae', 'Limidae', 'Sergestidae', 'Acipenseridae', 'Acropomatidae', 'Holothuriidae', 'Squalidae', 'Octopodidae', 'Pectinidae', 'Serranidae']\n",
    "\n",
    "i = 0\n",
    "while i < len(y):\n",
    "    number = np.random.randint(0,20)\n",
    "    file = '/'+liste[number]+'.txt'\n",
    "    if(y[i] == 1):\n",
    "        my_path = 'C:/Users/Willy/Desktop/github/Animal Species/' + dico[i]\n",
    "        os.chdir(my_path)\n",
    "        #print(my_path + file)\n",
    "        if not os.path.exists(my_path + file):\n",
    "            with open(my_path + file,'w') as fp:\n",
    "                pass\n",
    "        else:\n",
    "            descriptor = open(my_path + file,'a')\n",
    "            descriptor.write(\"Species\")\n",
    "            descriptor.close()\n",
    "        #print('-- folder f'+str(j),' -- file0 -- ',filename)\n",
    "    i = i + 1\n",
    "\n",
    "lis = []\n",
    "i = 0\n",
    "\n",
    "while i < len(y):\n",
    "    print(dico[i])\n",
    "    count = 0\n",
    "    for filename in os.listdir('/content/gdrive/My Drive/Animal Species/' + dico[i]):\n",
    "        print(filename)\n",
    "        count  = count + 1\n",
    "    lis.append(count)\n",
    "    print(\"-- nombre de fichiers  = \", lis[i],\"--\")\n",
    "    print(\"\\n\")\n",
    "    i = i + 1\n",
    "\n",
    "\n",
    "\n",
    "list_Hash2 = []\n",
    "for i in range(len(y)):\n",
    "    list_Hash2.append('')\n",
    "list_Hash2\n",
    "\n",
    "for i in range(len(y)):\n",
    "    path = '/content/gdrive/My Drive/Animal Species/' + dico[i]\n",
    "    #print(path)\n",
    "    list_Hash2[i] = hash_directory(path)\n",
    "    print('--hash '+dico[i],'--',list_Hash2[i])\n",
    "\n",
    "msg_secret = []\n",
    "for i in range(len(y)):\n",
    "    if(list_Hash1[i] != list_Hash2[i]):\n",
    "        msg_secret.append(1)\n",
    "    else:\n",
    "        msg_secret.append(0)\n",
    "\n",
    "print(np.array(msg_secret, dtype = 'i'))\n",
    "\n",
    "\n",
    "decoded = qc_ldpc.decode(np.copy(np.array(msg_secret, dtype = 'i')))\n",
    "decoded = qc_ldpc.get_message(decoded)\n",
    "print(decoded)\n",
    "print(len(decoded))\n",
    "\n",
    "print(word)\n",
    "\n",
    "try:\n",
    "    assert (msg_secret == y).all()\n",
    "    assert (decoded == word).all()\n",
    "except AssertionError:\n",
    "    print(\"The secret message must be forwarded\")\n",
    "\n",
    "\n",
    "\n",
    "end = time.time()\n",
    "print('time = ',end - start)"
   ]
  },
  {
   "cell_type": "code",
   "execution_count": null,
   "metadata": {},
   "outputs": [],
   "source": []
  }
 ],
 "metadata": {
  "anaconda-cloud": {},
  "kernelspec": {
   "display_name": "Python 3 (ipykernel)",
   "language": "python",
   "name": "python3"
  },
  "language_info": {
   "codemirror_mode": {
    "name": "ipython",
    "version": 3
   },
   "file_extension": ".py",
   "mimetype": "text/x-python",
   "name": "python",
   "nbconvert_exporter": "python",
   "pygments_lexer": "ipython3",
   "version": "3.9.12"
  }
 },
 "nbformat": 4,
 "nbformat_minor": 4
}
