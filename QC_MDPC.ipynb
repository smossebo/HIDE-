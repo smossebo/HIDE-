{
  "cells": [
    {
      "cell_type": "code",
      "execution_count": null,
      "metadata": {
        "id": "iz0UzXEsQe5g"
      },
      "outputs": [],
      "source": [
        "import os\n",
        "import shutil\n",
        "import numpy as np\n",
        "from google.colab import drive\n",
        "drive.mount('/content/gdrive')\n",
        "os.chdir('/content/gdrive/MyDrive/HIDE--main')"
      ]
    },
    {
      "cell_type": "code",
      "execution_count": 37,
      "metadata": {
        "id": "puULSLGdpvjj"
      },
      "outputs": [],
      "source": [
        "from utils import gaussjordan\n",
        "from LinearCode import LinearCode\n",
        "import hashlib\n",
        "\n",
        "def generate_random_vector(n, p):\n",
        "  \"\"\"\n",
        "  Génère un vecteur aléatoire de taille n avec p positions à 1.\n",
        "\n",
        "  Args:\n",
        "    n: La taille du vecteur.\n",
        "    p: Le nombre de positions à 1.\n",
        "\n",
        "  Returns:\n",
        "    Un vecteur numpy de taille n avec p positions à 1.\n",
        "  \"\"\"\n",
        "  vector = np.zeros(n, dtype=int)\n",
        "  indices = np.random.choice(n, p, replace=False)\n",
        "  vector[indices] = 1\n",
        "  return vector"
      ]
    },
    {
      "cell_type": "code",
      "execution_count": null,
      "metadata": {
        "id": "vK8XTp3hN_S8"
      },
      "outputs": [],
      "source": [
        "class Moderate_PC(LinearCode):\n",
        "    \"\"\"\n",
        "    Moderate Parity Check Codes representation (extends LinearCode)\n",
        "\n",
        "    ...\n",
        "\n",
        "    Methods\n",
        "    -------\n",
        "    from_params(n, k)\n",
        "        Init Moderate-PC by length and dimension\n",
        "\n",
        "    \"\"\"\n",
        "\n",
        "    def __init__(self, G, H):\n",
        "        super().__init__(G, H)\n",
        "\n",
        "    @classmethod\n",
        "    def from_params(cls, n, k):\n",
        "\n",
        "      I_k = np.eye(k, dtype=int)\n",
        "      A = np.random.randint(0, 2, size=(n-k, k), dtype=int)\n",
        "      G = np.concatenate((I_k, A.T), axis=1)\n",
        "      I_n_k = np.eye(n-k, dtype=int)\n",
        "      H = np.concatenate((A, I_n_k), axis=1)\n",
        "\n",
        "      assert (G @ H.T % 2 == 0).all(), \"G is not correspond to H\"\n",
        "\n",
        "      return cls(G, H)\n",
        "\n",
        "class QuasiCyclic_Moderate_PC(Moderate_PC):\n",
        "    \"\"\"\n",
        "    Quasi-Cyclic Moderate Parity Check Codes representation (extends Moderate_PC)\n",
        "\n",
        "    ...\n",
        "\n",
        "    Methods\n",
        "    -------\n",
        "    from_params(n, k, p)\n",
        "        Init QuasiCyclic-Moderate-PC by length, dimension and sub-block size\n",
        "\n",
        "    \"\"\"\n",
        "\n",
        "    def __init__(self, G, H):\n",
        "        super().__init__(G, H)\n",
        "\n",
        "    @classmethod\n",
        "    def from_params(cls, n, k, p):\n",
        "        J = n // p\n",
        "        I_J = np.eye(J, dtype=int)\n",
        "        # Generate random permutation matrices\n",
        "        P_list = [np.random.permutation(I_J) for _ in range(k * (n - k))]\n",
        "        # Reshape the list into a 3D array\n",
        "        P_array = np.array(P_list).reshape(n - k, k, J, J)\n",
        "\n",
        "        A = np.block([[P_array[i, j] for j in range(k)] for i in range(n - k)])\n",
        "        I_k = np.eye(k * J, dtype=int)\n",
        "        G = np.concatenate((I_k, A.T), axis=1)\n",
        "        I_n_k = np.eye((n - k) * J, dtype=int)\n",
        "        H = np.concatenate((A, I_n_k), axis=1)\n",
        "\n",
        "        assert (G @ H.T % 2 == 0).all(), \"G is not correspond to H\"\n",
        "\n",
        "        return cls(G, H)\n",
        "\n",
        "# EXAMPLE USAGE:\n",
        "\n",
        "n = 8\n",
        "k = 4\n",
        "p = 4  # Sub-block size\n",
        "errors_num = 2\n",
        "\n",
        "quasi_cyclic_moderate_pc = QuasiCyclic_Moderate_PC.from_params(n, k, p)\n",
        "print(quasi_cyclic_moderate_pc.getG())\n",
        "print(quasi_cyclic_moderate_pc.getG().shape)\n",
        "\n",
        "print(quasi_cyclic_moderate_pc.getH())\n",
        "print(quasi_cyclic_moderate_pc.getH().shape)\n",
        "\n",
        "word = np.random.randint(2, size=quasi_cyclic_moderate_pc.getG().shape[0])\n",
        "print(word)\n",
        "print(len(word))\n",
        "\n",
        "encoded = quasi_cyclic_moderate_pc.encode(word)\n",
        "print(encoded)\n",
        "print(len(encoded))\n",
        "\n",
        "e = generate_random_vector(len(encoded), errors_num)\n",
        "\n",
        "print(e)\n",
        "print(len(e))\n",
        "\n",
        "corrupted = (encoded + e) % 2\n",
        "print(corrupted)\n",
        "print(len(corrupted))\n",
        "\n",
        "decoded = quasi_cyclic_moderate_pc.decode(np.copy(corrupted))\n",
        "decoded = quasi_cyclic_moderate_pc.get_message(decoded)\n",
        "print(decoded)\n",
        "print(len(decoded))\n",
        "\n",
        "try:\n",
        "    assert (decoded == word).all()\n",
        "except AssertionError:\n",
        "    print(\"The secret message must be forwarded\")"
      ]
    },
    {
      "cell_type": "code",
      "execution_count": 40,
      "metadata": {
        "id": "gPyXs9j2I4px"
      },
      "outputs": [],
      "source": [
        "os.chdir('/content/gdrive/MyDrive/HIDE--main/Animal Species')"
      ]
    },
    {
      "cell_type": "code",
      "source": [
        "folder_path = '/content/gdrive/MyDrive/HIDE--main/Animal Species/file.txt'\n",
        "\n",
        "folder_names = []\n",
        "\n",
        "with open(folder_path, 'r') as f:\n",
        "  for line in f:\n",
        "    folder_names.append(line.strip()) # strip() removes potential newline characters\n",
        "\n",
        "\n",
        "# Create the empty folders\n",
        "for folder_name in folder_names:\n",
        "  if not os.path.exists(folder_name):\n",
        "      os.makedirs(folder_name)"
      ],
      "metadata": {
        "id": "UW2GGFWfpGUZ"
      },
      "execution_count": 41,
      "outputs": []
    },
    {
      "cell_type": "code",
      "execution_count": null,
      "metadata": {
        "id": "VN9M5_Q3VRl5"
      },
      "outputs": [],
      "source": [
        "count = 0\n",
        "for folder_name in folder_names:\n",
        "    if(os.path.isdir(os.path.join(folder_name))):\n",
        "        count = count + 1\n",
        "\n",
        "print(count)"
      ]
    },
    {
      "cell_type": "code",
      "execution_count": null,
      "metadata": {
        "id": "fHJhdOKdQe58"
      },
      "outputs": [],
      "source": [
        "ls"
      ]
    },
    {
      "cell_type": "code",
      "execution_count": 44,
      "metadata": {
        "id": "lwmnj0ieQe59"
      },
      "outputs": [],
      "source": [
        "value = 0\n",
        "dico = {}\n",
        "for filename in os.listdir('/content/gdrive/MyDrive/HIDE--main/Animal Species'):\n",
        "        if(os.path.isdir(filename)):\n",
        "          dico[value]  = filename\n",
        "          value = value + 1"
      ]
    },
    {
      "cell_type": "code",
      "execution_count": null,
      "metadata": {
        "id": "-IzyXjZGQe59"
      },
      "outputs": [],
      "source": [
        " for i in dico.items():\n",
        "    print(i)"
      ]
    },
    {
      "cell_type": "code",
      "execution_count": null,
      "metadata": {
        "id": "wzCALCuLQe59"
      },
      "outputs": [],
      "source": [
        "y = corrupted\n",
        "print(y)\n",
        "len(y)"
      ]
    },
    {
      "cell_type": "code",
      "execution_count": null,
      "metadata": {
        "id": "pEdLQ8qrQe5-"
      },
      "outputs": [],
      "source": [
        "lis = []\n",
        "i = 0\n",
        "\n",
        "while i < len(y):\n",
        "    print(dico[i])\n",
        "    count = 0\n",
        "    for filename in os.listdir('/content/gdrive/MyDrive/HIDE--main/Animal Species/' + dico[i]):\n",
        "        print(filename)\n",
        "        count  = count + 1\n",
        "    lis.append(count)\n",
        "    print(\"-- nombre de fichiers  = \", lis[i],\"--\")\n",
        "    print(\"\\n\")\n",
        "    i = i + 1"
      ]
    },
    {
      "cell_type": "code",
      "execution_count": 48,
      "metadata": {
        "id": "4ONqD_K4Qe5-",
        "colab": {
          "base_uri": "https://localhost:8080/"
        },
        "outputId": "cecd734b-6140-4cb5-b426-c0821aa842f3"
      },
      "outputs": [
        {
          "output_type": "execute_result",
          "data": {
            "text/plain": [
              "[3, 2, 3, 5, 3, 3, 4, 2, 5, 7, 4, 2, 4, 3, 5, 4]"
            ]
          },
          "metadata": {},
          "execution_count": 48
        }
      ],
      "source": [
        "lis"
      ]
    },
    {
      "cell_type": "code",
      "execution_count": 49,
      "metadata": {
        "id": "ae0O0akIQe5_"
      },
      "outputs": [],
      "source": [
        "def hash_directory(path):\n",
        "    digest = hashlib.sha256()\n",
        "\n",
        "    for root, dirs, files in os.walk(path):\n",
        "        for names in files:\n",
        "            file_path = os.path.join(root, names)\n",
        "\n",
        "            # Hash the path and add to the digest to account for empty files/directories\n",
        "            digest.update(hashlib.sha1(file_path[len(path):].encode()).digest())\n",
        "\n",
        "            # Per @pt12lol - if the goal is uniqueness over repeatability, this is an alternative method using 'hash'\n",
        "            # digest.update(str(hash(file_path[len(path):])).encode())\n",
        "\n",
        "            if os.path.isfile(file_path):\n",
        "                with open(file_path, 'rb') as f_obj:\n",
        "                    while True:\n",
        "                        buf = f_obj.read(1024 * 1024)\n",
        "                        if not buf:\n",
        "                            break\n",
        "                        digest.update(buf)\n",
        "\n",
        "    return digest.hexdigest()"
      ]
    },
    {
      "cell_type": "code",
      "execution_count": null,
      "metadata": {
        "id": "FoJ7zjEhQe5_"
      },
      "outputs": [],
      "source": [
        "list_Hash1 = []\n",
        "for i in range(len(y)):\n",
        "    list_Hash1.append('')\n",
        "list_Hash1"
      ]
    },
    {
      "cell_type": "code",
      "execution_count": null,
      "metadata": {
        "id": "HcO_tKccQe5_"
      },
      "outputs": [],
      "source": [
        "for i in range(len(y)):\n",
        "    path = '/content/gdrive/MyDrive/HIDE--main/Animal Species/' + dico[i]\n",
        "    list_Hash1[i] = hash_directory(path)\n",
        "    print('--hash '+dico[i],'--',list_Hash1[i])"
      ]
    },
    {
      "cell_type": "code",
      "execution_count": null,
      "metadata": {
        "id": "9R0ibIIWQe6A"
      },
      "outputs": [],
      "source": [
        "y"
      ]
    },
    {
      "cell_type": "code",
      "execution_count": 53,
      "metadata": {
        "id": "z9GhCvZOQe6C"
      },
      "outputs": [],
      "source": [
        "liste = ['Balistidae', 'Belonidae', 'Enoploteuthidae', 'Cyprinidae', 'Nephropidae', 'Axiidae', 'Serranidae', 'Cardiidae', 'Scombridae', 'Sparidae', 'Acanthuridae', 'Limidae', 'Sergestidae', 'Acipenseridae', 'Acropomatidae', 'Holothuriidae', 'Squalidae', 'Octopodidae', 'Pectinidae', 'Serranidae']"
      ]
    },
    {
      "cell_type": "code",
      "execution_count": null,
      "metadata": {
        "id": "m0JW8tdlQe6C"
      },
      "outputs": [],
      "source": [
        "len(liste)"
      ]
    },
    {
      "cell_type": "code",
      "execution_count": 55,
      "metadata": {
        "id": "TjoNBs53Qe6E"
      },
      "outputs": [],
      "source": [
        "i = 0\n",
        "while i < len(y):\n",
        "    number = np.random.randint(0,20)\n",
        "    file = '/'+liste[number]+'.txt'\n",
        "    if(y[i] == 1):\n",
        "        my_path = '/content/gdrive/MyDrive/HIDE--main/Animal Species/' + dico[i]\n",
        "        os.chdir(my_path)\n",
        "        if not os.path.exists(my_path + file):\n",
        "            with open(my_path + file,'w') as fp:\n",
        "                pass\n",
        "        else:\n",
        "            descriptor = open(my_path + file,'a')\n",
        "            descriptor.write(\"Species\")\n",
        "            descriptor.close()\n",
        "    i = i + 1"
      ]
    },
    {
      "cell_type": "code",
      "execution_count": null,
      "metadata": {
        "id": "k1Wr91TtQe6E"
      },
      "outputs": [],
      "source": [
        "lis = []\n",
        "i = 0\n",
        "\n",
        "while i < len(y):\n",
        "    print(dico[i])\n",
        "    count = 0\n",
        "    for filename in os.listdir('/content/gdrive/MyDrive/HIDE--main/Animal Species/' + dico[i]):\n",
        "        print(filename)\n",
        "        count  = count + 1\n",
        "    lis.append(count)\n",
        "    print(\"-- nombre de fichiers  = \", lis[i],\"--\")\n",
        "    print(\"\\n\")\n",
        "    i = i + 1"
      ]
    },
    {
      "cell_type": "code",
      "execution_count": null,
      "metadata": {
        "id": "WIprLePyQe6F"
      },
      "outputs": [],
      "source": [
        "list_Hash2 = []\n",
        "for i in range(len(y)):\n",
        "    list_Hash2.append('')\n",
        "list_Hash2"
      ]
    },
    {
      "cell_type": "code",
      "execution_count": null,
      "metadata": {
        "id": "tB5DPUwLQe6F"
      },
      "outputs": [],
      "source": [
        "for i in range(len(y)):\n",
        "    path = '/content/gdrive/MyDrive/HIDE--main/Animal Species/' + dico[i]\n",
        "    list_Hash2[i] = hash_directory(path)\n",
        "    print('--hash '+dico[i],'--',list_Hash2[i])"
      ]
    },
    {
      "cell_type": "code",
      "execution_count": 59,
      "metadata": {
        "id": "LNMJupMSQe6G"
      },
      "outputs": [],
      "source": [
        "msg_secret = []\n",
        "for i in range(len(y)):\n",
        "    if(list_Hash1[i] != list_Hash2[i]):\n",
        "        msg_secret.append(1)\n",
        "    else:\n",
        "        msg_secret.append(0)"
      ]
    },
    {
      "cell_type": "code",
      "execution_count": null,
      "metadata": {
        "id": "q48Th3UoQe6H"
      },
      "outputs": [],
      "source": [
        "np.array(msg_secret)"
      ]
    },
    {
      "cell_type": "code",
      "execution_count": null,
      "metadata": {
        "id": "bEBPBa3t2WE4"
      },
      "outputs": [],
      "source": [
        "y"
      ]
    },
    {
      "cell_type": "code",
      "source": [],
      "metadata": {
        "id": "Afhmf9Djy25C"
      },
      "execution_count": null,
      "outputs": []
    },
    {
      "cell_type": "code",
      "execution_count": null,
      "metadata": {
        "id": "p3Z20F40Qe6I"
      },
      "outputs": [],
      "source": [
        "len(msg_secret)"
      ]
    },
    {
      "cell_type": "code",
      "execution_count": null,
      "metadata": {
        "id": "OAPlqlkrQe6I"
      },
      "outputs": [],
      "source": [
        "decoded = quasi_cyclic_moderate_pc.decode(np.copy(msg_secret))\n",
        "decoded = quasi_cyclic_moderate_pc.get_message(decoded)\n",
        "print(decoded)\n",
        "print(len(decoded))"
      ]
    },
    {
      "cell_type": "code",
      "execution_count": null,
      "metadata": {
        "id": "qZpTUQaAQe6K"
      },
      "outputs": [],
      "source": [
        "word"
      ]
    },
    {
      "cell_type": "code",
      "execution_count": null,
      "metadata": {
        "id": "cg0wQQb4Qe6K"
      },
      "outputs": [],
      "source": [
        "try:\n",
        "    assert (msg_secret == y).all()\n",
        "    assert (decoded == word).all()\n",
        "except AssertionError:\n",
        "    print(\"The secret message must be reforwarded\")\n",
        "else:\n",
        "    print(\"The secret message has been correctly forwarded\")"
      ]
    },
    {
      "cell_type": "code",
      "execution_count": null,
      "metadata": {
        "id": "Up9FUMzuQe6K"
      },
      "outputs": [],
      "source": []
    },
    {
      "cell_type": "code",
      "source": [],
      "metadata": {
        "id": "Q44m2ym3dkDQ"
      },
      "execution_count": null,
      "outputs": []
    },
    {
      "cell_type": "code",
      "source": [],
      "metadata": {
        "id": "WTPLwTzodkGu"
      },
      "execution_count": null,
      "outputs": []
    },
    {
      "cell_type": "code",
      "source": [],
      "metadata": {
        "id": "T4EZ2pSQbOMK"
      },
      "execution_count": null,
      "outputs": []
    },
    {
      "cell_type": "code",
      "source": [],
      "metadata": {
        "id": "KaS52A8gbOWh"
      },
      "execution_count": null,
      "outputs": []
    },
    {
      "cell_type": "code",
      "execution_count": null,
      "metadata": {
        "id": "zVM8gDmxfvUA"
      },
      "outputs": [],
      "source": []
    },
    {
      "cell_type": "markdown",
      "metadata": {
        "id": "mgBah2U6Qe6M"
      },
      "source": [
        "# #Code script for time evaluation"
      ]
    },
    {
      "cell_type": "code",
      "source": [
        "from google.colab import drive\n",
        "drive.mount('/content/gdrive')\n",
        "os.chdir('/content/gdrive/MyDrive/HIDE--main')\n",
        "import time\n",
        "import os\n",
        "import shutil\n",
        "import numpy as np\n",
        "from utils import gaussjordan\n",
        "from LinearCode import LinearCode\n",
        "import hashlib\n",
        "\n",
        "def generate_random_vector(n, p):\n",
        "  \"\"\"\n",
        "  Génère un vecteur aléatoire de taille n avec p positions à 1.\n",
        "\n",
        "  Args:\n",
        "    n: La taille du vecteur.\n",
        "    p: Le nombre de positions à 1.\n",
        "\n",
        "  Returns:\n",
        "    Un vecteur numpy de taille n avec p positions à 1.\n",
        "  \"\"\"\n",
        "  vector = np.zeros(n, dtype=int)\n",
        "  indices = np.random.choice(n, p, replace=False)\n",
        "  vector[indices] = 1\n",
        "  return vector\n",
        "\n",
        "class Moderate_PC(LinearCode):\n",
        "    \"\"\"\n",
        "    Moderate Parity Check Codes representation (extends LinearCode)\n",
        "\n",
        "    ...\n",
        "\n",
        "    Methods\n",
        "    -------\n",
        "    from_params(n, k)\n",
        "        Init Moderate-PC by length and dimension\n",
        "\n",
        "    \"\"\"\n",
        "\n",
        "    def __init__(self, G, H):\n",
        "        super().__init__(G, H)\n",
        "\n",
        "    @classmethod\n",
        "    def from_params(cls, n, k):\n",
        "\n",
        "      I_k = np.eye(k, dtype=int)\n",
        "      A = np.random.randint(0, 2, size=(n-k, k), dtype=int)\n",
        "      G = np.concatenate((I_k, A.T), axis=1)\n",
        "      I_n_k = np.eye(n-k, dtype=int)\n",
        "      H = np.concatenate((A, I_n_k), axis=1)\n",
        "\n",
        "      assert (G @ H.T % 2 == 0).all(), \"G is not correspond to H\"\n",
        "\n",
        "      return cls(G, H)\n",
        "\n",
        "class QuasiCyclic_Moderate_PC(Moderate_PC):\n",
        "    \"\"\"\n",
        "    Quasi-Cyclic Moderate Parity Check Codes representation (extends Moderate_PC)\n",
        "\n",
        "    ...\n",
        "\n",
        "    Methods\n",
        "    -------\n",
        "    from_params(n, k, p)\n",
        "        Init QuasiCyclic-Moderate-PC by length, dimension and sub-block size\n",
        "\n",
        "    \"\"\"\n",
        "\n",
        "    def __init__(self, G, H):\n",
        "        super().__init__(G, H)\n",
        "\n",
        "    @classmethod\n",
        "    def from_params(cls, n, k, p):\n",
        "        J = n // p\n",
        "        I_J = np.eye(J, dtype=int)\n",
        "        # Generate random permutation matrices\n",
        "        P_list = [np.random.permutation(I_J) for _ in range(k * (n - k))]\n",
        "        # Reshape the list into a 3D array\n",
        "        P_array = np.array(P_list).reshape(n - k, k, J, J)\n",
        "\n",
        "        A = np.block([[P_array[i, j] for j in range(k)] for i in range(n - k)])\n",
        "        I_k = np.eye(k * J, dtype=int)\n",
        "        G = np.concatenate((I_k, A.T), axis=1)\n",
        "        I_n_k = np.eye((n - k) * J, dtype=int)\n",
        "        H = np.concatenate((A, I_n_k), axis=1)\n",
        "\n",
        "        assert (G @ H.T % 2 == 0).all(), \"G is not correspond to H\"\n",
        "\n",
        "        return cls(G, H)\n",
        "\n",
        "def hash_directory(path):\n",
        "    digest = hashlib.sha256()\n",
        "\n",
        "    for root, dirs, files in os.walk(path):\n",
        "        for names in files:\n",
        "            file_path = os.path.join(root, names)\n",
        "\n",
        "            # Hash the path and add to the digest to account for empty files/directories\n",
        "            digest.update(hashlib.sha1(file_path[len(path):].encode()).digest())\n",
        "\n",
        "            # Per @pt12lol - if the goal is uniqueness over repeatability, this is an alternative method using 'hash'\n",
        "            # digest.update(str(hash(file_path[len(path):])).encode())\n",
        "\n",
        "            if os.path.isfile(file_path):\n",
        "                with open(file_path, 'rb') as f_obj:\n",
        "                    while True:\n",
        "                        buf = f_obj.read(1024 * 1024)\n",
        "                        if not buf:\n",
        "                            break\n",
        "                        digest.update(buf)\n",
        "\n",
        "    return digest.hexdigest()\n",
        "\n",
        "os.chdir('/content/gdrive/MyDrive/HIDE--main/Animal Species')\n",
        "folder_path = '/content/gdrive/MyDrive/HIDE--main/Animal Species/file.txt'\n",
        "\n",
        "folder_names = []\n",
        "\n",
        "with open(folder_path, 'r') as f:\n",
        "  for line in f:\n",
        "    folder_names.append(line.strip()) # strip() removes potential newline characters\n",
        "\n",
        "\n",
        "# Create the empty folders\n",
        "for folder_name in folder_names:\n",
        "  if not os.path.exists(folder_name):\n",
        "      os.makedirs(folder_name)\n",
        "\n",
        "start = time.time()\n",
        "\n",
        "n = 8\n",
        "k = 4\n",
        "p = 4  # Sub-block size\n",
        "errors_num = 2\n",
        "\n",
        "quasi_cyclic_moderate_pc = QuasiCyclic_Moderate_PC.from_params(n, k, p)\n",
        "print(quasi_cyclic_moderate_pc.getG())\n",
        "print(quasi_cyclic_moderate_pc.getG().shape)\n",
        "\n",
        "print(quasi_cyclic_moderate_pc.getH())\n",
        "print(quasi_cyclic_moderate_pc.getH().shape)\n",
        "\n",
        "word = np.random.randint(2, size=quasi_cyclic_moderate_pc.getG().shape[0])\n",
        "print(word)\n",
        "print(len(word))\n",
        "\n",
        "encoded = quasi_cyclic_moderate_pc.encode(word)\n",
        "print(encoded)\n",
        "print(len(encoded))\n",
        "\n",
        "e = generate_random_vector(len(encoded), errors_num)\n",
        "\n",
        "print(e)\n",
        "print(len(e))\n",
        "\n",
        "corrupted = (encoded + e) % 2\n",
        "print(corrupted)\n",
        "print(len(corrupted))\n",
        "\n",
        "\n",
        "value = 0\n",
        "dico = {}\n",
        "for filename in os.listdir('/content/gdrive/MyDrive/HIDE--main/Animal Species'):\n",
        "        if(os.path.isdir(filename)):\n",
        "          dico[value]  = filename\n",
        "          value = value + 1\n",
        "\n",
        "y = corrupted\n",
        "\n",
        "list_Hash1 = []\n",
        "for i in range(len(y)):\n",
        "    list_Hash1.append('')\n",
        "\n",
        "\n",
        "for i in range(len(y)):\n",
        "    path = '/content/gdrive/MyDrive/HIDE--main/Animal Species/' + dico[i]\n",
        "    list_Hash1[i] = hash_directory(path)\n",
        "\n",
        "\n",
        "liste = ['Balistidae', 'Belonidae', 'Enoploteuthidae', 'Cyprinidae', 'Nephropidae', 'Axiidae', 'Serranidae', 'Cardiidae', 'Scombridae', 'Sparidae', 'Acanthuridae', 'Limidae', 'Sergestidae', 'Acipenseridae', 'Acropomatidae', 'Holothuriidae', 'Squalidae', 'Octopodidae', 'Pectinidae', 'Serranidae']\n",
        "\n",
        "i = 0\n",
        "while i < len(y):\n",
        "    number = np.random.randint(0,20)\n",
        "    file = '/'+liste[number]+'.txt'\n",
        "    if(y[i] == 1):\n",
        "        my_path = '/content/gdrive/MyDrive/HIDE--main/Animal Species/' + dico[i]\n",
        "        os.chdir(my_path)\n",
        "        if not os.path.exists(my_path + file):\n",
        "            with open(my_path + file,'w') as fp:\n",
        "                pass\n",
        "        else:\n",
        "            descriptor = open(my_path + file,'a')\n",
        "            descriptor.write(\"Species\")\n",
        "            descriptor.close()\n",
        "    i = i + 1\n",
        "\n",
        "\n",
        "\n",
        "list_Hash2 = []\n",
        "for i in range(len(y)):\n",
        "    list_Hash2.append('')\n",
        "\n",
        "\n",
        "for i in range(len(y)):\n",
        "    path = '/content/gdrive/MyDrive/HIDE--main/Animal Species/' + dico[i]\n",
        "    list_Hash2[i] = hash_directory(path)\n",
        "\n",
        "\n",
        "msg_secret = []\n",
        "for i in range(len(y)):\n",
        "    if(list_Hash1[i] != list_Hash2[i]):\n",
        "        msg_secret.append(1)\n",
        "    else:\n",
        "        msg_secret.append(0)\n",
        "\n",
        "\n",
        "decoded = quasi_cyclic_moderate_pc.decode(np.copy(msg_secret))\n",
        "decoded = quasi_cyclic_moderate_pc.get_message(decoded)\n",
        "\n",
        "end = time.time()\n",
        "print('time = ',end - start)\n",
        "\n",
        "try:\n",
        "    assert (msg_secret == y).all()\n",
        "    assert (decoded == word).all()\n",
        "except AssertionError:\n",
        "    print(\"The secret message must be reforwarded\")\n",
        "else:\n",
        "    print(\"The secret message has been correctly forwarded\")"
      ],
      "metadata": {
        "id": "s_pRH6vZgneZ"
      },
      "execution_count": null,
      "outputs": []
    },
    {
      "cell_type": "code",
      "source": [],
      "metadata": {
        "id": "3XoJkPzIxnaq"
      },
      "execution_count": null,
      "outputs": []
    }
  ],
  "metadata": {
    "anaconda-cloud": {},
    "colab": {
      "provenance": []
    },
    "kernelspec": {
      "display_name": "Python 3 (ipykernel)",
      "language": "python",
      "name": "python3"
    },
    "language_info": {
      "codemirror_mode": {
        "name": "ipython",
        "version": 3
      },
      "file_extension": ".py",
      "mimetype": "text/x-python",
      "name": "python",
      "nbconvert_exporter": "python",
      "pygments_lexer": "ipython3",
      "version": "3.9.12"
    }
  },
  "nbformat": 4,
  "nbformat_minor": 0
}