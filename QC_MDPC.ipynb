{
  "cells": [
    {
      "cell_type": "code",
      "execution_count": null,
      "metadata": {
        "id": "iz0UzXEsQe5g"
      },
      "outputs": [],
      "source": [
        "import os\n",
        "import shutil\n",
        "import numpy as np\n",
        "from google.colab import drive\n",
        "drive.mount('/content/gdrive')\n",
        "os.chdir('/content/gdrive/MyDrive/PQHIDE')"
      ]
    },
    {
      "cell_type": "code",
      "execution_count": null,
      "metadata": {
        "id": "vK8XTp3hN_S8"
      },
      "outputs": [],
      "source": [
        "import hashlib\n",
        "\n",
        "import numpy as np\n",
        "\n",
        "from utils import gaussjordan\n",
        "\n",
        "from LinearCode import LinearCode\n",
        "\n",
        "\n",
        "\n",
        "class QC_MDPC(LinearCode):\n",
        "    \"\"\"\n",
        "    Quasi-Cyclic LDPC code representation (extends LinearCode)\n",
        "\n",
        "    ...\n",
        "\n",
        "    Methods\n",
        "    -------\n",
        "    from_params(n, p, w)\n",
        "        Init QC-LDPC by length, circulant size and code weight\n",
        "\n",
        "    _get_circulant_block(polynom)\n",
        "        Get circulant (p, p) for given vector of size p\n",
        "\n",
        "    \"\"\"\n",
        "\n",
        "    def __init__(self, G, H):\n",
        "        super().__init__(G, H)\n",
        "\n",
        "    @classmethod\n",
        "    def from_params(cls, n, p, w):\n",
        "        assert n % p == 0, \"p must be delimeter of n\"\n",
        "\n",
        "        n0 = n // p\n",
        "        assert w > 2*n0, \"not enough code weight\"\n",
        "\n",
        "        fine = False\n",
        "\n",
        "        while not fine:\n",
        "            blocks = []\n",
        "            inverse_block = None\n",
        "            inverse_block_position = None\n",
        "\n",
        "            vector = [1 for _ in range(w)] + [0 for _  in range(n - w)]\n",
        "            vector = np.array(vector, dtype=int)\n",
        "            np.random.shuffle(vector)\n",
        "\n",
        "            for i in range(n0):\n",
        "                circ = vector[i*p:(i+1)*p]\n",
        "\n",
        "                if sum(circ) < 2:\n",
        "                    inverse_block = None\n",
        "                    break\n",
        "\n",
        "                block = QC_MDPC._get_circulant_block(circ)\n",
        "                blocks.append(block)\n",
        "\n",
        "                A, P = gaussjordan(block, True)\n",
        "                A = np.array(A, dtype=int)\n",
        "                P = np.array(P, dtype=int)\n",
        "\n",
        "                if (A == np.eye(p, dtype=int)).all():\n",
        "                    inverse_block_position = i\n",
        "                    inverse_block = P\n",
        "\n",
        "            # continue only if inverse circulant found\n",
        "            fine = True if inverse_block is not None else False\n",
        "\n",
        "        # put inverse block on last position\n",
        "        blocks[inverse_block_position], blocks[n0-1] = blocks[n0-1], blocks[inverse_block_position]\n",
        "        H = np.concatenate(blocks, axis=1)\n",
        "\n",
        "        for i in range(n0):\n",
        "            blocks[i] = blocks[i] @ inverse_block % 2\n",
        "            blocks[i] = blocks[i].T\n",
        "\n",
        "        Ht = np.concatenate(blocks[:n0-1], axis=0)\n",
        "        G = np.concatenate((np.eye(Ht.shape[0], dtype=int), Ht), axis=1)\n",
        "\n",
        "        assert (G @ H.T % 2 == 0).all(), \"G is not correspond to H\"\n",
        "\n",
        "        return cls(G, H)\n",
        "\n",
        "    @staticmethod\n",
        "    def _get_circulant_block(polynom):\n",
        "        N = len(polynom)\n",
        "        block = np.empty((N, N), dtype=int)\n",
        "\n",
        "        for i in range(N):\n",
        "            block[i] = np.roll(polynom, i)\n",
        "\n",
        "        return block\n",
        "\n",
        "\n",
        "\n",
        "# EXAMPLE USAGE:\n",
        "\n",
        "n = 8\n",
        "p = 4\n",
        "w = 5\n",
        "errors_num = 2\n",
        "qc_mdpc = QC_MDPC.from_params(n, p, w)\n",
        "\n",
        "word = np.random.randint(2, size=qc_mdpc.getG().shape[0])\n",
        "print(word)\n",
        "\n",
        "encoded = qc_mdpc.encode(word)\n",
        "print(encoded)\n",
        "print(len(encoded))\n",
        "\n",
        "# error vector size n with t or less errors\n",
        "e = [1 for _ in range(errors_num)] + [0 for _  in range(n - errors_num)]\n",
        "e = np.array(e, dtype=int)\n",
        "np.random.shuffle(e)\n",
        "print(e)\n",
        "print(len(e))\n",
        "\n",
        "corrupted = (encoded + e) % 2\n",
        "print(corrupted)\n",
        "print(len(corrupted))\n",
        "\n",
        "decoded = qc_mdpc.decode(np.copy(corrupted))\n",
        "decoded = qc_mdpc.get_message(decoded)\n",
        "print(decoded)\n",
        "print(len(decoded))\n",
        "\n",
        "try:\n",
        "    assert (decoded == word).all()\n",
        "except AssertionError:\n",
        "    print(\"The secret message must be reforwarded\")"
      ]
    },
    {
      "cell_type": "code",
      "execution_count": 5,
      "metadata": {
        "id": "gPyXs9j2I4px"
      },
      "outputs": [],
      "source": [
        "os.chdir('/content/gdrive/MyDrive/PQHIDE/Species')"
      ]
    },
    {
      "cell_type": "code",
      "execution_count": 6,
      "metadata": {
        "id": "UW2GGFWfpGUZ"
      },
      "outputs": [],
      "source": [
        "folder_path = '/content/gdrive/MyDrive/PQHIDE/Species/file.txt'\n",
        "\n",
        "folder_names = []\n",
        "\n",
        "with open(folder_path, 'r') as f:\n",
        "  for line in f:\n",
        "    folder_names.append(line.strip()) # strip() removes potential newline characters\n",
        "\n",
        "\n",
        "# Create the empty folders\n",
        "for folder_name in folder_names:\n",
        "  if not os.path.exists(folder_name):\n",
        "      os.makedirs(folder_name)"
      ]
    },
    {
      "cell_type": "code",
      "execution_count": null,
      "metadata": {
        "id": "VN9M5_Q3VRl5"
      },
      "outputs": [],
      "source": [
        "count = 0\n",
        "for folder_name in folder_names:\n",
        "    if(os.path.isdir(os.path.join(folder_name))):\n",
        "        count = count + 1\n",
        "\n",
        "print(count)"
      ]
    },
    {
      "cell_type": "code",
      "execution_count": null,
      "metadata": {
        "id": "fHJhdOKdQe58"
      },
      "outputs": [],
      "source": [
        "ls"
      ]
    },
    {
      "cell_type": "code",
      "execution_count": 9,
      "metadata": {
        "id": "lwmnj0ieQe59"
      },
      "outputs": [],
      "source": [
        "value = 0\n",
        "dico = {}\n",
        "for filename in os.listdir('/content/gdrive/MyDrive/PQHIDE/Species'):\n",
        "        if(os.path.isdir(filename)):\n",
        "          dico[value]  = filename\n",
        "          value = value + 1"
      ]
    },
    {
      "cell_type": "code",
      "execution_count": null,
      "metadata": {
        "id": "-IzyXjZGQe59"
      },
      "outputs": [],
      "source": [
        " for i in dico.items():\n",
        "    print(i)"
      ]
    },
    {
      "cell_type": "code",
      "execution_count": null,
      "metadata": {
        "id": "wzCALCuLQe59"
      },
      "outputs": [],
      "source": [
        "y = corrupted\n",
        "print(y)\n",
        "len(y)"
      ]
    },
    {
      "cell_type": "code",
      "execution_count": null,
      "metadata": {
        "id": "pEdLQ8qrQe5-"
      },
      "outputs": [],
      "source": [
        "lis = []\n",
        "i = 0\n",
        "\n",
        "while i < len(y):\n",
        "    print(dico[i])\n",
        "    count = 0\n",
        "    for filename in os.listdir('/content/gdrive/MyDrive/PQHIDE/Species/' + dico[i]):\n",
        "        print(filename)\n",
        "        count  = count + 1\n",
        "    lis.append(count)\n",
        "    print(\"-- nombre de fichiers  = \", lis[i],\"--\")\n",
        "    print(\"\\n\")\n",
        "    i = i + 1"
      ]
    },
    {
      "cell_type": "code",
      "execution_count": null,
      "metadata": {
        "id": "4ONqD_K4Qe5-"
      },
      "outputs": [],
      "source": [
        "lis"
      ]
    },
    {
      "cell_type": "code",
      "execution_count": 14,
      "metadata": {
        "id": "ae0O0akIQe5_"
      },
      "outputs": [],
      "source": [
        "def hash_directory(path):\n",
        "    digest = hashlib.sha256()\n",
        "\n",
        "    for root, dirs, files in os.walk(path):\n",
        "        for names in files:\n",
        "            file_path = os.path.join(root, names)\n",
        "\n",
        "            # Hash the path and add to the digest to account for empty files/directories\n",
        "            digest.update(hashlib.sha1(file_path[len(path):].encode()).digest())\n",
        "\n",
        "            # Per @pt12lol - if the goal is uniqueness over repeatability, this is an alternative method using 'hash'\n",
        "            # digest.update(str(hash(file_path[len(path):])).encode())\n",
        "\n",
        "            if os.path.isfile(file_path):\n",
        "                with open(file_path, 'rb') as f_obj:\n",
        "                    while True:\n",
        "                        buf = f_obj.read(1024 * 1024)\n",
        "                        if not buf:\n",
        "                            break\n",
        "                        digest.update(buf)\n",
        "\n",
        "    return digest.hexdigest()"
      ]
    },
    {
      "cell_type": "code",
      "execution_count": null,
      "metadata": {
        "id": "FoJ7zjEhQe5_"
      },
      "outputs": [],
      "source": [
        "list_Hash1 = []\n",
        "for i in range(len(y)):\n",
        "    list_Hash1.append('')\n",
        "list_Hash1"
      ]
    },
    {
      "cell_type": "code",
      "execution_count": null,
      "metadata": {
        "id": "HcO_tKccQe5_"
      },
      "outputs": [],
      "source": [
        "for i in range(len(y)):\n",
        "    path = '/content/gdrive/MyDrive/PQHIDE/Species/' + dico[i]\n",
        "    list_Hash1[i] = hash_directory(path)\n",
        "    print('--hash '+dico[i],'--',list_Hash1[i])"
      ]
    },
    {
      "cell_type": "code",
      "execution_count": null,
      "metadata": {
        "id": "9R0ibIIWQe6A"
      },
      "outputs": [],
      "source": [
        "y"
      ]
    },
    {
      "cell_type": "code",
      "execution_count": 18,
      "metadata": {
        "id": "z9GhCvZOQe6C"
      },
      "outputs": [],
      "source": [
        "liste = ['Balistidae', 'Belonidae', 'Enoploteuthidae', 'Cyprinidae', 'Nephropidae', 'Axiidae', 'Serranidae', 'Cardiidae', 'Scombridae', 'Sparidae', 'Acanthuridae', 'Limidae', 'Sergestidae', 'Acipenseridae', 'Acropomatidae', 'Holothuriidae', 'Squalidae', 'Octopodidae', 'Pectinidae', 'Serranidae']"
      ]
    },
    {
      "cell_type": "code",
      "execution_count": null,
      "metadata": {
        "id": "m0JW8tdlQe6C"
      },
      "outputs": [],
      "source": [
        "len(liste)"
      ]
    },
    {
      "cell_type": "code",
      "execution_count": 20,
      "metadata": {
        "id": "TjoNBs53Qe6E"
      },
      "outputs": [],
      "source": [
        "i = 0\n",
        "while i < len(y):\n",
        "    number = np.random.randint(0,20)\n",
        "    file = '/'+liste[number]+'.txt'\n",
        "    if(y[i] == 1):\n",
        "        my_path = '/content/gdrive/MyDrive/PQHIDE/Species/' + dico[i]\n",
        "        os.chdir(my_path)\n",
        "        if not os.path.exists(my_path + file):\n",
        "            with open(my_path + file,'w') as fp:\n",
        "                pass\n",
        "        else:\n",
        "            descriptor = open(my_path + file,'a')\n",
        "            descriptor.write(\"Species\")\n",
        "            descriptor.close()\n",
        "    i = i + 1"
      ]
    },
    {
      "cell_type": "code",
      "execution_count": null,
      "metadata": {
        "id": "k1Wr91TtQe6E"
      },
      "outputs": [],
      "source": [
        "lis = []\n",
        "i = 0\n",
        "\n",
        "while i < len(y):\n",
        "    print(dico[i])\n",
        "    count = 0\n",
        "    for filename in os.listdir('/content/gdrive/MyDrive/PQHIDE/Species/' + dico[i]):\n",
        "        print(filename)\n",
        "        count  = count + 1\n",
        "    lis.append(count)\n",
        "    print(\"-- nombre de fichiers  = \", lis[i],\"--\")\n",
        "    print(\"\\n\")\n",
        "    i = i + 1"
      ]
    },
    {
      "cell_type": "code",
      "execution_count": null,
      "metadata": {
        "id": "WIprLePyQe6F"
      },
      "outputs": [],
      "source": [
        "list_Hash2 = []\n",
        "for i in range(len(y)):\n",
        "    list_Hash2.append('')\n",
        "list_Hash2"
      ]
    },
    {
      "cell_type": "code",
      "execution_count": null,
      "metadata": {
        "id": "tB5DPUwLQe6F"
      },
      "outputs": [],
      "source": [
        "for i in range(len(y)):\n",
        "    path = '/content/gdrive/MyDrive/PQHIDE/Species/' + dico[i]\n",
        "    list_Hash2[i] = hash_directory(path)\n",
        "    print('--hash '+dico[i],'--',list_Hash2[i])"
      ]
    },
    {
      "cell_type": "code",
      "execution_count": 24,
      "metadata": {
        "id": "LNMJupMSQe6G"
      },
      "outputs": [],
      "source": [
        "msg_secret = []\n",
        "for i in range(len(y)):\n",
        "    if(list_Hash1[i] != list_Hash2[i]):\n",
        "        msg_secret.append(1)\n",
        "    else:\n",
        "        msg_secret.append(0)"
      ]
    },
    {
      "cell_type": "code",
      "execution_count": null,
      "metadata": {
        "id": "q48Th3UoQe6H"
      },
      "outputs": [],
      "source": [
        "np.array(msg_secret)"
      ]
    },
    {
      "cell_type": "code",
      "execution_count": null,
      "metadata": {
        "id": "bEBPBa3t2WE4"
      },
      "outputs": [],
      "source": [
        "y"
      ]
    },
    {
      "cell_type": "code",
      "execution_count": null,
      "metadata": {
        "id": "p3Z20F40Qe6I"
      },
      "outputs": [],
      "source": [
        "len(msg_secret)"
      ]
    },
    {
      "cell_type": "code",
      "execution_count": null,
      "metadata": {
        "id": "OAPlqlkrQe6I"
      },
      "outputs": [],
      "source": [
        "decoded = qc_mdpc.decode(np.copy(corrupted))\n",
        "decoded = qc_mdpc.get_message(decoded)\n",
        "print(decoded)\n",
        "print(len(decoded))"
      ]
    },
    {
      "cell_type": "code",
      "execution_count": null,
      "metadata": {
        "id": "qZpTUQaAQe6K"
      },
      "outputs": [],
      "source": [
        "word"
      ]
    },
    {
      "cell_type": "code",
      "execution_count": null,
      "metadata": {
        "id": "cg0wQQb4Qe6K"
      },
      "outputs": [],
      "source": [
        "try:\n",
        "    assert (msg_secret == y).all()\n",
        "    assert (decoded == word).all()\n",
        "except AssertionError:\n",
        "    print(\"The secret message must be reforwarded\")\n",
        "else:\n",
        "    print(\"The secret message has been correctly forwarded\")"
      ]
    },
    {
      "cell_type": "code",
      "execution_count": 30,
      "metadata": {
        "id": "Up9FUMzuQe6K"
      },
      "outputs": [],
      "source": []
    },
    {
      "cell_type": "code",
      "execution_count": 30,
      "metadata": {
        "id": "Q44m2ym3dkDQ"
      },
      "outputs": [],
      "source": []
    },
    {
      "cell_type": "code",
      "execution_count": 30,
      "metadata": {
        "id": "WTPLwTzodkGu"
      },
      "outputs": [],
      "source": []
    },
    {
      "cell_type": "code",
      "execution_count": 30,
      "metadata": {
        "id": "T4EZ2pSQbOMK"
      },
      "outputs": [],
      "source": []
    },
    {
      "cell_type": "code",
      "execution_count": 30,
      "metadata": {
        "id": "KaS52A8gbOWh"
      },
      "outputs": [],
      "source": []
    },
    {
      "cell_type": "code",
      "execution_count": 30,
      "metadata": {
        "id": "zVM8gDmxfvUA"
      },
      "outputs": [],
      "source": []
    },
    {
      "cell_type": "markdown",
      "metadata": {
        "id": "mgBah2U6Qe6M"
      },
      "source": [
        "# #Code script for time evaluation"
      ]
    },
    {
      "cell_type": "code",
      "execution_count": null,
      "metadata": {
        "id": "s_pRH6vZgneZ"
      },
      "outputs": [],
      "source": [
        "from google.colab import drive\n",
        "drive.mount('/content/gdrive')\n",
        "os.chdir('/content/gdrive/MyDrive/PQHIDE')\n",
        "import time\n",
        "import os\n",
        "import shutil\n",
        "import numpy as np\n",
        "from utils import gaussjordan\n",
        "from LinearCode import LinearCode\n",
        "import hashlib\n",
        "from collections import defaultdict\n",
        "\n",
        "\n",
        "class QC_MDPC(LinearCode):\n",
        "    \"\"\"\n",
        "    Quasi-Cyclic LDPC code representation (extends LinearCode)\n",
        "\n",
        "    ...\n",
        "\n",
        "    Methods\n",
        "    -------\n",
        "    from_params(n, p, w)\n",
        "        Init QC-LDPC by length, circulant size and code weight\n",
        "\n",
        "    _get_circulant_block(polynom)\n",
        "        Get circulant (p, p) for given vector of size p\n",
        "\n",
        "    \"\"\"\n",
        "\n",
        "    def __init__(self, G, H):\n",
        "        super().__init__(G, H)\n",
        "\n",
        "    @classmethod\n",
        "    def from_params(cls, n, p, w):\n",
        "        assert n % p == 0, \"p must be delimeter of n\"\n",
        "\n",
        "        n0 = n // p\n",
        "        assert w > 2*n0, \"not enough code weight\"\n",
        "\n",
        "        fine = False\n",
        "\n",
        "        while not fine:\n",
        "            blocks = []\n",
        "            inverse_block = None\n",
        "            inverse_block_position = None\n",
        "\n",
        "            vector = [1 for _ in range(w)] + [0 for _  in range(n - w)]\n",
        "            vector = np.array(vector, dtype=int)\n",
        "            np.random.shuffle(vector)\n",
        "\n",
        "            for i in range(n0):\n",
        "                circ = vector[i*p:(i+1)*p]\n",
        "\n",
        "                if sum(circ) < 2:\n",
        "                    inverse_block = None\n",
        "                    break\n",
        "\n",
        "                block = QC_MDPC._get_circulant_block(circ)\n",
        "                blocks.append(block)\n",
        "\n",
        "                A, P = gaussjordan(block, True)\n",
        "                A = np.array(A, dtype=int)\n",
        "                P = np.array(P, dtype=int)\n",
        "\n",
        "                if (A == np.eye(p, dtype=int)).all():\n",
        "                    inverse_block_position = i\n",
        "                    inverse_block = P\n",
        "\n",
        "            # continue only if inverse circulant found\n",
        "            fine = True if inverse_block is not None else False\n",
        "\n",
        "        # put inverse block on last position\n",
        "        blocks[inverse_block_position], blocks[n0-1] = blocks[n0-1], blocks[inverse_block_position]\n",
        "        H = np.concatenate(blocks, axis=1)\n",
        "\n",
        "        for i in range(n0):\n",
        "            blocks[i] = blocks[i] @ inverse_block % 2\n",
        "            blocks[i] = blocks[i].T\n",
        "\n",
        "        Ht = np.concatenate(blocks[:n0-1], axis=0)\n",
        "        G = np.concatenate((np.eye(Ht.shape[0], dtype=int), Ht), axis=1)\n",
        "\n",
        "        assert (G @ H.T % 2 == 0).all(), \"G is not correspond to H\"\n",
        "\n",
        "        return cls(G, H)\n",
        "\n",
        "    @staticmethod\n",
        "    def _get_circulant_block(polynom):\n",
        "        N = len(polynom)\n",
        "        block = np.empty((N, N), dtype=int)\n",
        "\n",
        "        for i in range(N):\n",
        "            block[i] = np.roll(polynom, i)\n",
        "\n",
        "        return block\n",
        "\n",
        "\n",
        "\n",
        "# EXAMPLE USAGE:\n",
        "\n",
        "n = 8\n",
        "p = 4\n",
        "w = 5\n",
        "errors_num = 2\n",
        "\n",
        "qc_mdpc = QC_MDPC.from_params(n, p, w)\n",
        "\n",
        "start = time.time()\n",
        "\n",
        "word = np.random.randint(2, size=qc_mdpc.getG().shape[0])\n",
        "print(word)\n",
        "\n",
        "encoded = qc_mdpc.encode(word)\n",
        "print(encoded)\n",
        "print(len(encoded))\n",
        "\n",
        "# error vector size n with t or less errors\n",
        "e = [1 for _ in range(errors_num)] + [0 for _  in range(n - errors_num)]\n",
        "e = np.array(e, dtype=int)\n",
        "np.random.shuffle(e)\n",
        "print(e)\n",
        "print(len(e))\n",
        "\n",
        "corrupted = (encoded + e) % 2\n",
        "print(corrupted)\n",
        "print(len(corrupted))\n",
        "\n",
        "\n",
        "value = 0\n",
        "dico = {}\n",
        "for filename in os.listdir('/content/gdrive/MyDrive/PQHIDE/Species'):\n",
        "        #if(os.path.isdir(filename)):\n",
        "          dico[value]  = filename\n",
        "          value = value + 1\n",
        "\n",
        "y = corrupted\n",
        "\n",
        "list_Hash1 = []\n",
        "for i in range(len(y)):\n",
        "    list_Hash1.append('')\n",
        "\n",
        "\n",
        "for i in range(len(y)):\n",
        "    path = '/content/gdrive/MyDrive/PQHIDE/Species/' + dico[i]\n",
        "    list_Hash1[i] = hash_directory(path)\n",
        "\n",
        "\n",
        "liste = ['Balistidae', 'Belonidae', 'Enoploteuthidae', 'Cyprinidae', 'Nephropidae', 'Axiidae', 'Serranidae', 'Cardiidae', 'Scombridae', 'Sparidae', 'Acanthuridae', 'Limidae', 'Sergestidae', 'Acipenseridae', 'Acropomatidae', 'Holothuriidae', 'Squalidae', 'Octopodidae', 'Pectinidae', 'Serranidae']\n",
        "\n",
        "i = 0\n",
        "while i < len(y):\n",
        "    number = np.random.randint(0,20)\n",
        "    file = '/'+liste[number]+'.txt'\n",
        "    if(y[i] == 1):\n",
        "        my_path = '/content/gdrive/MyDrive/PQHIDE/Species/' + dico[i]\n",
        "        os.chdir(my_path)\n",
        "        if not os.path.exists(my_path + file):\n",
        "            with open(my_path + file,'w') as fp:\n",
        "                pass\n",
        "        else:\n",
        "            descriptor = open(my_path + file,'a')\n",
        "            descriptor.write(\"Species\")\n",
        "            descriptor.close()\n",
        "    i = i + 1\n",
        "\n",
        "\n",
        "\n",
        "list_Hash2 = []\n",
        "for i in range(len(y)):\n",
        "    list_Hash2.append('')\n",
        "\n",
        "\n",
        "for i in range(len(y)):\n",
        "    path = '/content/gdrive/MyDrive/PQHIDE/Species/' + dico[i]\n",
        "    list_Hash2[i] = hash_directory(path)\n",
        "\n",
        "\n",
        "msg_secret = []\n",
        "for i in range(len(y)):\n",
        "    if(list_Hash1[i] != list_Hash2[i]):\n",
        "        msg_secret.append(1)\n",
        "    else:\n",
        "        msg_secret.append(0)\n",
        "\n",
        "\n",
        "decoded = qc_mdpc.decode(np.copy(corrupted))\n",
        "decoded = qc_mdpc.get_message(decoded)\n",
        "print(decoded)\n",
        "print(len(decoded))\n",
        "\n",
        "end = time.time()\n",
        "print('time = ',end - start)\n",
        "\n",
        "try:\n",
        "    assert (msg_secret == y).all()\n",
        "    assert (decoded == word).all()\n",
        "except AssertionError:\n",
        "    print(\"The secret message must be reforwarded\")\n",
        "else:\n",
        "    print(\"The secret message has been correctly forwarded\")"
      ]
    },
    {
      "cell_type": "code",
      "source": [],
      "metadata": {
        "id": "VE25M0lfEfOB"
      },
      "execution_count": null,
      "outputs": []
    },
    {
      "cell_type": "code",
      "execution_count": null,
      "metadata": {
        "id": "3XoJkPzIxnaq"
      },
      "outputs": [],
      "source": []
    }
  ],
  "metadata": {
    "anaconda-cloud": {},
    "colab": {
      "provenance": []
    },
    "kernelspec": {
      "display_name": "Python 3 (ipykernel)",
      "language": "python",
      "name": "python3"
    },
    "language_info": {
      "codemirror_mode": {
        "name": "ipython",
        "version": 3
      },
      "file_extension": ".py",
      "mimetype": "text/x-python",
      "name": "python",
      "nbconvert_exporter": "python",
      "pygments_lexer": "ipython3",
      "version": "3.9.12"
    }
  },
  "nbformat": 4,
  "nbformat_minor": 0
}